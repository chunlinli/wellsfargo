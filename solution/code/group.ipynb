{
 "cells": [
  {
   "cell_type": "markdown",
   "metadata": {},
   "source": [
    "Note that we have manually saved the excel files as csv files, for both the training and the testing data."
   ]
  },
  {
   "cell_type": "code",
   "execution_count": 1,
   "metadata": {
    "tags": []
   },
   "outputs": [],
   "source": [
    "import pandas as pd\n",
    "import numpy as np\n",
    "import matplotlib.pyplot as plt\n",
    "from collections import Counter\n",
    "from sklearn.linear_model import LogisticRegression\n",
    "\n",
    "# autoload self-written modules\n",
    "%load_ext autoreload\n",
    "%autoreload 2\n",
    "import group as gp\n",
    "\n",
    "train = pd.read_csv('../data/train.csv')\n",
    "train['XC'] = pd.factorize(train['XC'], sort=True)[0]\n",
    "X = train.drop(columns = ['y']).values\n",
    "X = np.concatenate((np.ones(X.shape[0]).reshape(X.shape[0],1), X), axis=1)\n",
    "y = train['y'].values"
   ]
  },
  {
   "cell_type": "markdown",
   "metadata": {},
   "source": [
    "## Fit a Logistic Model with Sparse Grouping Pursuit"
   ]
  },
  {
   "cell_type": "code",
   "execution_count": 2,
   "metadata": {},
   "outputs": [],
   "source": [
    "m = gp.LogitGroupingPursuit(x=X, y=y, lambda_par = 1.0 / X.shape[0])"
   ]
  },
  {
   "cell_type": "markdown",
   "metadata": {},
   "source": [
    "Plot the coefficients. "
   ]
  },
  {
   "cell_type": "code",
   "execution_count": 3,
   "metadata": {},
   "outputs": [
    {
     "data": {
      "image/png": "[encoded data removed]",
      "text/plain": [
       "<Figure size 432x288 with 1 Axes>"
      ]
     },
     "metadata": {
      "needs_background": "light"
     },
     "output_type": "display_data"
    }
   ],
   "source": [
    "f = plt.figure()\n",
    "plt.ylim(-4.5, 0.5)\n",
    "plt.plot(range(31), (m[0])[1:], 'o', color=(0.8392156862745098, 0.15294117647058825, 0.1568627450980392))\n",
    "plt.plot(np.linspace(0,30,100), np.zeros(100),  '--', color=(0.8392156862745098, 0.15294117647058825, 0.1568627450980392))\n",
    "plt.plot(np.linspace(0,30,100), np.repeat(m[0][3],100),  '--', color=(0.8392156862745098, 0.15294117647058825, 0.1568627450980392))\n",
    "plt.show()\n",
    "f.savefig('../images/group_coef.pdf')"
   ]
  },
  {
   "cell_type": "markdown",
   "metadata": {},
   "source": [
    "## Compare with L1 Logistic Model"
   ]
  },
  {
   "cell_type": "code",
   "execution_count": 4,
   "metadata": {},
   "outputs": [
    {
     "data": {
      "image/png": "[encoded data removed]",
      "text/plain": [
       "<Figure size 432x288 with 1 Axes>"
      ]
     },
     "metadata": {
      "needs_background": "light"
     },
     "output_type": "display_data"
    }
   ],
   "source": [
    "m2 = LogisticRegression(penalty='l1', solver='liblinear', max_iter=200, C=0.6).fit(X=train.drop(columns = ['y']), y=train['y'])\n",
    "f = plt.figure()\n",
    "plt.ylim(-4.5, 0.5)\n",
    "plt.plot(range(31), m2.coef_.reshape(31), 'o', color = (0.12156862745098039, 0.4666666666666667, 0.7058823529411765))\n",
    "plt.plot(np.linspace(0,30,100), np.zeros(100),  '--', color=(0.12156862745098039, 0.4666666666666667, 0.7058823529411765))\n",
    "plt.plot(np.linspace(0,30,100), np.repeat(m[0][3],100),  '--', color=(0.12156862745098039, 0.4666666666666667, 0.7058823529411765))\n",
    "plt.show()\n",
    "f.savefig('../images/ungroup_coef.pdf')"
   ]
  },
  {
   "cell_type": "code",
   "execution_count": null,
   "metadata": {},
   "outputs": [],
   "source": []
  }
 ],
 "metadata": {
  "kernelspec": {
   "display_name": "Python 3",
   "language": "python",
   "name": "python3"
  },
  "language_info": {
   "codemirror_mode": {
    "name": "ipython",
    "version": 3
   },
   "file_extension": ".py",
   "mimetype": "text/x-python",
   "name": "python",
   "nbconvert_exporter": "python",
   "pygments_lexer": "ipython3",
   "version": "3.7.7"
  }
 },
 "nbformat": 4,
 "nbformat_minor": 2
}
